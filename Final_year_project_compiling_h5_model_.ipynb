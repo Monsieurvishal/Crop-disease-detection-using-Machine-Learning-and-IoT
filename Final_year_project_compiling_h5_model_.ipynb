{
  "nbformat": 4,
  "nbformat_minor": 0,
  "metadata": {
    "colab": {
      "name": "Final year project compiling .h5 model .ipynb",
      "provenance": [],
      "collapsed_sections": []
    },
    "kernelspec": {
      "display_name": "Python 3",
      "name": "python3"
    }
  },
  "cells": [
    {
      "cell_type": "code",
      "metadata": {
        "id": "SPRttBSLrLEM"
      },
      "source": [
        "import numpy as np\n",
        "import pickle # not necessary \n",
        "import cv2 # Computer vision to convert image to array\n",
        "from os import listdir  "
      ],
      "execution_count": null,
      "outputs": []
    },
    {
      "cell_type": "code",
      "metadata": {
        "id": "Oet7QV8Ft_Ok"
      },
      "source": [
        "# Please make sure to google below subjects\n",
        "from keras.models import Sequential\n",
        "from keras.layers.normalization import BatchNormalization\n",
        "from keras.layers.convolutional import Conv2D\n",
        "from keras.layers.convolutional import MaxPooling2D# what is max pooling ?\n",
        "from keras.layers.core import Activation, Flatten, Dropout, Dense #why dropout ? #its used in avaoiding overfitting \n",
        "from keras import backend as K\n",
        "from keras.preprocessing.image import ImageDataGenerator\n",
        "from keras.optimizers import Adam\n",
        "from keras.preprocessing import image\n",
        "from keras.preprocessing.image import img_to_array\n",
        "import tensorflow #backend"
      ],
      "execution_count": null,
      "outputs": []
    },
    {
      "cell_type": "code",
      "metadata": {
        "id": "vtck1Beo3bYX"
      },
      "source": [
        "from sklearn.preprocessing import LabelBinarizer\n",
        "from sklearn.preprocessing import MultiLabelBinarizer\n",
        "from sklearn.model_selection import train_test_split"
      ],
      "execution_count": null,
      "outputs": []
    },
    {
      "cell_type": "code",
      "metadata": {
        "id": "zJap3iUi3d47"
      },
      "source": [
        "import matplotlib.pyplot as plt # try using plotly for better understnding"
      ],
      "execution_count": null,
      "outputs": []
    },
    {
      "cell_type": "code",
      "metadata": {
        "id": "SC8hd75m0KqR"
      },
      "source": [
        "#You should store dataset in ''Final year project/Dataset'' or whichever name you wish"
      ],
      "execution_count": null,
      "outputs": []
    },
    {
      "cell_type": "markdown",
      "metadata": {
        "id": "mXxkLbax5DR0"
      },
      "source": [
        "For below operation I am taking dataset from google drive please make sure that you have Dataset in your drive if you dont get this contact me.Run below cell to get authorisation."
      ]
    },
    {
      "cell_type": "code",
      "metadata": {
        "colab": {
          "base_uri": "https://localhost:8080/"
        },
        "id": "sAADr6-y2ibE",
        "outputId": "4df8b2f1-55a3-418a-c2a4-9fb8a4f2f0f8"
      },
      "source": [
        "from google.colab import drive\n",
        "drive.mount('/content/drive')"
      ],
      "execution_count": null,
      "outputs": [
        {
          "output_type": "stream",
          "text": [
            "Mounted at /content/drive\n"
          ],
          "name": "stdout"
        }
      ]
    },
    {
      "cell_type": "markdown",
      "metadata": {
        "id": "RK3drdr5jvUV"
      },
      "source": [
        "[click](https://datascience.stackexchange.com/questions/29480/uploading-images-folder-from-my-system-into-google-colab) to know how i arrived at this"
      ]
    },
    {
      "cell_type": "code",
      "metadata": {
        "id": "-uNYz9wg13zo"
      },
      "source": [
        "EPOCHS = 25\n",
        "INIT_LR = 1e-3 #https://towardsdatascience.com/learning-rate-schedules-and-adaptive-learning-rate-methods-for-deep-learning-2c8f433990\n",
        "BS = 32\n",
        "default_image_size = tuple((256, 256))\n",
        "image_size = 0\n",
        "directory_root = '/content/drive/MyDrive/PATH_TO_OUTPUT'\n",
        "width=256\n",
        "height=256\n",
        "depth=3"
      ],
      "execution_count": null,
      "outputs": []
    },
    {
      "cell_type": "code",
      "metadata": {
        "id": "yI13IN_tkwkk"
      },
      "source": [
        "!unzip -uq \"/content/drive/MyDrive/Final Year Project/Dataset.zip\" -d \"/content/drive/My Drive/PATH_TO_OUTPUT\""
      ],
      "execution_count": null,
      "outputs": []
    },
    {
      "cell_type": "code",
      "metadata": {
        "id": "ETvjAZUq7Qkh"
      },
      "source": [
        "#Function to convert image into array \n",
        "#\n",
        "def convert_image_to_array(image_dir):\n",
        "    try:\n",
        "        image = cv2.imread(image_dir)\n",
        "        if image is not None :\n",
        "            image = cv2.resize(image, default_image_size)   \n",
        "            return img_to_array(image)\n",
        "        else :\n",
        "            return np.array([])\n",
        "    except Exception as e:\n",
        "        print(f\"Error : {e}\")\n",
        "        return None"
      ],
      "execution_count": null,
      "outputs": []
    },
    {
      "cell_type": "code",
      "metadata": {
        "colab": {
          "base_uri": "https://localhost:8080/"
        },
        "id": "mSyAXUjMX38k",
        "outputId": "14fd240d-3c8f-4180-a714-837cebc7b3ac"
      },
      "source": [
        "#below code is for loading  the images\n",
        "#Make sure to know the direcory root\n",
        "# this is most important cell. There are different set of engineers who do this.\n",
        "image_list, label_list = [], []\n",
        " \n",
        "try:\n",
        "    print(\"[INFO] Loading images ...\")\n",
        "    root_dir = listdir(directory_root)\n",
        "    for directory in root_dir :\n",
        "        # remove .DS_Store from list\n",
        "        if directory == \".DS_Store\" :\n",
        "            root_dir.remove(directory)\n",
        " \n",
        "    for plant_folder in root_dir : \n",
        "        plant_disease_folder_list = listdir(f'{directory_root}/{plant_folder}')\n",
        "        \n",
        "        for disease_folder in plant_disease_folder_list :\n",
        "            # remove .DS_Store from list\n",
        "            if disease_folder == \".DS_Store\" :\n",
        "                plant_disease_folder_list.remove(disease_folder)\n",
        " \n",
        "        for plant_disease_folder in plant_disease_folder_list:\n",
        "            print(f'[INFO] Processing {plant_disease_folder} ...')\n",
        "            plant_disease_image_list = listdir(f'{directory_root}/{plant_folder}/{plant_disease_folder}/')\n",
        "                \n",
        "            for single_plant_disease_image in plant_disease_image_list :\n",
        "                if single_plant_disease_image == \".DS_Store\" :\n",
        "                    plant_disease_image_list.remove(single_plant_disease_image)\n",
        " \n",
        "            for image in plant_disease_image_list[:200]:\n",
        "                image_directory = f'{directory_root}/{plant_folder}/{plant_disease_folder}/{image}'\n",
        "                if image_directory.endswith(\".jpg\") == True or image_directory.endswith(\".JPG\") == True:\n",
        "                    image_list.append(convert_image_to_array(image_directory))\n",
        "                    label_list.append(plant_disease_folder)\n",
        "    print(\"[INFO] Image loading completed\")  \n",
        "except Exception as e:\n",
        "    print(f\"Error : {e}\")"
      ],
      "execution_count": null,
      "outputs": [
        {
          "output_type": "stream",
          "text": [
            "[INFO] Loading images ...\n",
            "[INFO] Processing train ...\n",
            "[INFO] Processing val ...\n",
            "[INFO] Processing Tomato__Tomato_mosaic_virus ...\n",
            "[INFO] Processing Tomato_Bacterial_spot ...\n",
            "[INFO] Processing Tomato_Early_blight ...\n",
            "[INFO] Processing Tomato_healthy ...\n",
            "[INFO] Image loading completed\n"
          ],
          "name": "stdout"
        }
      ]
    },
    {
      "cell_type": "code",
      "metadata": {
        "colab": {
          "base_uri": "https://localhost:8080/"
        },
        "id": "j3E0vl-47a-s",
        "outputId": "ff567dc0-d973-4fb1-c96f-41f2212a1e41"
      },
      "source": [
        "print(label_list)"
      ],
      "execution_count": null,
      "outputs": [
        {
          "output_type": "stream",
          "text": [
            "['Tomato__Tomato_mosaic_virus', 'Tomato__Tomato_mosaic_virus', 'Tomato__Tomato_mosaic_virus', 'Tomato__Tomato_mosaic_virus', 'Tomato__Tomato_mosaic_virus', 'Tomato__Tomato_mosaic_virus', 'Tomato__Tomato_mosaic_virus', 'Tomato__Tomato_mosaic_virus', 'Tomato__Tomato_mosaic_virus', 'Tomato__Tomato_mosaic_virus', 'Tomato__Tomato_mosaic_virus', 'Tomato__Tomato_mosaic_virus', 'Tomato__Tomato_mosaic_virus', 'Tomato__Tomato_mosaic_virus', 'Tomato__Tomato_mosaic_virus', 'Tomato__Tomato_mosaic_virus', 'Tomato__Tomato_mosaic_virus', 'Tomato__Tomato_mosaic_virus', 'Tomato__Tomato_mosaic_virus', 'Tomato__Tomato_mosaic_virus', 'Tomato__Tomato_mosaic_virus', 'Tomato__Tomato_mosaic_virus', 'Tomato__Tomato_mosaic_virus', 'Tomato__Tomato_mosaic_virus', 'Tomato__Tomato_mosaic_virus', 'Tomato__Tomato_mosaic_virus', 'Tomato__Tomato_mosaic_virus', 'Tomato__Tomato_mosaic_virus', 'Tomato__Tomato_mosaic_virus', 'Tomato__Tomato_mosaic_virus', 'Tomato__Tomato_mosaic_virus', 'Tomato__Tomato_mosaic_virus', 'Tomato__Tomato_mosaic_virus', 'Tomato__Tomato_mosaic_virus', 'Tomato__Tomato_mosaic_virus', 'Tomato__Tomato_mosaic_virus', 'Tomato__Tomato_mosaic_virus', 'Tomato__Tomato_mosaic_virus', 'Tomato__Tomato_mosaic_virus', 'Tomato__Tomato_mosaic_virus', 'Tomato__Tomato_mosaic_virus', 'Tomato__Tomato_mosaic_virus', 'Tomato__Tomato_mosaic_virus', 'Tomato__Tomato_mosaic_virus', 'Tomato__Tomato_mosaic_virus', 'Tomato__Tomato_mosaic_virus', 'Tomato__Tomato_mosaic_virus', 'Tomato__Tomato_mosaic_virus', 'Tomato__Tomato_mosaic_virus', 'Tomato__Tomato_mosaic_virus', 'Tomato__Tomato_mosaic_virus', 'Tomato__Tomato_mosaic_virus', 'Tomato__Tomato_mosaic_virus', 'Tomato__Tomato_mosaic_virus', 'Tomato__Tomato_mosaic_virus', 'Tomato__Tomato_mosaic_virus', 'Tomato__Tomato_mosaic_virus', 'Tomato__Tomato_mosaic_virus', 'Tomato__Tomato_mosaic_virus', 'Tomato__Tomato_mosaic_virus', 'Tomato__Tomato_mosaic_virus', 'Tomato__Tomato_mosaic_virus', 'Tomato__Tomato_mosaic_virus', 'Tomato__Tomato_mosaic_virus', 'Tomato__Tomato_mosaic_virus', 'Tomato__Tomato_mosaic_virus', 'Tomato__Tomato_mosaic_virus', 'Tomato__Tomato_mosaic_virus', 'Tomato__Tomato_mosaic_virus', 'Tomato__Tomato_mosaic_virus', 'Tomato__Tomato_mosaic_virus', 'Tomato__Tomato_mosaic_virus', 'Tomato__Tomato_mosaic_virus', 'Tomato__Tomato_mosaic_virus', 'Tomato__Tomato_mosaic_virus', 'Tomato__Tomato_mosaic_virus', 'Tomato__Tomato_mosaic_virus', 'Tomato__Tomato_mosaic_virus', 'Tomato__Tomato_mosaic_virus', 'Tomato__Tomato_mosaic_virus', 'Tomato__Tomato_mosaic_virus', 'Tomato__Tomato_mosaic_virus', 'Tomato__Tomato_mosaic_virus', 'Tomato__Tomato_mosaic_virus', 'Tomato__Tomato_mosaic_virus', 'Tomato__Tomato_mosaic_virus', 'Tomato__Tomato_mosaic_virus', 'Tomato__Tomato_mosaic_virus', 'Tomato__Tomato_mosaic_virus', 'Tomato__Tomato_mosaic_virus', 'Tomato__Tomato_mosaic_virus', 'Tomato__Tomato_mosaic_virus', 'Tomato__Tomato_mosaic_virus', 'Tomato__Tomato_mosaic_virus', 'Tomato__Tomato_mosaic_virus', 'Tomato__Tomato_mosaic_virus', 'Tomato__Tomato_mosaic_virus', 'Tomato__Tomato_mosaic_virus', 'Tomato__Tomato_mosaic_virus', 'Tomato__Tomato_mosaic_virus', 'Tomato__Tomato_mosaic_virus', 'Tomato__Tomato_mosaic_virus', 'Tomato__Tomato_mosaic_virus', 'Tomato__Tomato_mosaic_virus', 'Tomato__Tomato_mosaic_virus', 'Tomato__Tomato_mosaic_virus', 'Tomato__Tomato_mosaic_virus', 'Tomato__Tomato_mosaic_virus', 'Tomato__Tomato_mosaic_virus', 'Tomato__Tomato_mosaic_virus', 'Tomato__Tomato_mosaic_virus', 'Tomato__Tomato_mosaic_virus', 'Tomato__Tomato_mosaic_virus', 'Tomato__Tomato_mosaic_virus', 'Tomato__Tomato_mosaic_virus', 'Tomato__Tomato_mosaic_virus', 'Tomato__Tomato_mosaic_virus', 'Tomato__Tomato_mosaic_virus', 'Tomato__Tomato_mosaic_virus', 'Tomato__Tomato_mosaic_virus', 'Tomato__Tomato_mosaic_virus', 'Tomato__Tomato_mosaic_virus', 'Tomato__Tomato_mosaic_virus', 'Tomato__Tomato_mosaic_virus', 'Tomato__Tomato_mosaic_virus', 'Tomato__Tomato_mosaic_virus', 'Tomato__Tomato_mosaic_virus', 'Tomato__Tomato_mosaic_virus', 'Tomato__Tomato_mosaic_virus', 'Tomato__Tomato_mosaic_virus', 'Tomato__Tomato_mosaic_virus', 'Tomato__Tomato_mosaic_virus', 'Tomato__Tomato_mosaic_virus', 'Tomato__Tomato_mosaic_virus', 'Tomato__Tomato_mosaic_virus', 'Tomato__Tomato_mosaic_virus', 'Tomato__Tomato_mosaic_virus', 'Tomato__Tomato_mosaic_virus', 'Tomato__Tomato_mosaic_virus', 'Tomato__Tomato_mosaic_virus', 'Tomato__Tomato_mosaic_virus', 'Tomato__Tomato_mosaic_virus', 'Tomato__Tomato_mosaic_virus', 'Tomato__Tomato_mosaic_virus', 'Tomato__Tomato_mosaic_virus', 'Tomato__Tomato_mosaic_virus', 'Tomato__Tomato_mosaic_virus', 'Tomato__Tomato_mosaic_virus', 'Tomato__Tomato_mosaic_virus', 'Tomato__Tomato_mosaic_virus', 'Tomato__Tomato_mosaic_virus', 'Tomato__Tomato_mosaic_virus', 'Tomato__Tomato_mosaic_virus', 'Tomato__Tomato_mosaic_virus', 'Tomato__Tomato_mosaic_virus', 'Tomato__Tomato_mosaic_virus', 'Tomato__Tomato_mosaic_virus', 'Tomato__Tomato_mosaic_virus', 'Tomato__Tomato_mosaic_virus', 'Tomato__Tomato_mosaic_virus', 'Tomato__Tomato_mosaic_virus', 'Tomato__Tomato_mosaic_virus', 'Tomato__Tomato_mosaic_virus', 'Tomato__Tomato_mosaic_virus', 'Tomato__Tomato_mosaic_virus', 'Tomato__Tomato_mosaic_virus', 'Tomato__Tomato_mosaic_virus', 'Tomato__Tomato_mosaic_virus', 'Tomato__Tomato_mosaic_virus', 'Tomato__Tomato_mosaic_virus', 'Tomato__Tomato_mosaic_virus', 'Tomato__Tomato_mosaic_virus', 'Tomato__Tomato_mosaic_virus', 'Tomato__Tomato_mosaic_virus', 'Tomato__Tomato_mosaic_virus', 'Tomato__Tomato_mosaic_virus', 'Tomato__Tomato_mosaic_virus', 'Tomato__Tomato_mosaic_virus', 'Tomato__Tomato_mosaic_virus', 'Tomato__Tomato_mosaic_virus', 'Tomato__Tomato_mosaic_virus', 'Tomato__Tomato_mosaic_virus', 'Tomato__Tomato_mosaic_virus', 'Tomato__Tomato_mosaic_virus', 'Tomato__Tomato_mosaic_virus', 'Tomato__Tomato_mosaic_virus', 'Tomato__Tomato_mosaic_virus', 'Tomato__Tomato_mosaic_virus', 'Tomato__Tomato_mosaic_virus', 'Tomato__Tomato_mosaic_virus', 'Tomato__Tomato_mosaic_virus', 'Tomato__Tomato_mosaic_virus', 'Tomato__Tomato_mosaic_virus', 'Tomato__Tomato_mosaic_virus', 'Tomato__Tomato_mosaic_virus', 'Tomato__Tomato_mosaic_virus', 'Tomato__Tomato_mosaic_virus', 'Tomato__Tomato_mosaic_virus', 'Tomato__Tomato_mosaic_virus', 'Tomato__Tomato_mosaic_virus', 'Tomato_Bacterial_spot', 'Tomato_Bacterial_spot', 'Tomato_Bacterial_spot', 'Tomato_Bacterial_spot', 'Tomato_Bacterial_spot', 'Tomato_Bacterial_spot', 'Tomato_Bacterial_spot', 'Tomato_Bacterial_spot', 'Tomato_Bacterial_spot', 'Tomato_Bacterial_spot', 'Tomato_Bacterial_spot', 'Tomato_Bacterial_spot', 'Tomato_Bacterial_spot', 'Tomato_Bacterial_spot', 'Tomato_Bacterial_spot', 'Tomato_Bacterial_spot', 'Tomato_Bacterial_spot', 'Tomato_Bacterial_spot', 'Tomato_Bacterial_spot', 'Tomato_Bacterial_spot', 'Tomato_Bacterial_spot', 'Tomato_Bacterial_spot', 'Tomato_Bacterial_spot', 'Tomato_Bacterial_spot', 'Tomato_Bacterial_spot', 'Tomato_Bacterial_spot', 'Tomato_Bacterial_spot', 'Tomato_Bacterial_spot', 'Tomato_Bacterial_spot', 'Tomato_Bacterial_spot', 'Tomato_Bacterial_spot', 'Tomato_Bacterial_spot', 'Tomato_Bacterial_spot', 'Tomato_Bacterial_spot', 'Tomato_Bacterial_spot', 'Tomato_Bacterial_spot', 'Tomato_Bacterial_spot', 'Tomato_Bacterial_spot', 'Tomato_Bacterial_spot', 'Tomato_Bacterial_spot', 'Tomato_Bacterial_spot', 'Tomato_Bacterial_spot', 'Tomato_Bacterial_spot', 'Tomato_Bacterial_spot', 'Tomato_Bacterial_spot', 'Tomato_Bacterial_spot', 'Tomato_Bacterial_spot', 'Tomato_Bacterial_spot', 'Tomato_Bacterial_spot', 'Tomato_Bacterial_spot', 'Tomato_Bacterial_spot', 'Tomato_Bacterial_spot', 'Tomato_Bacterial_spot', 'Tomato_Bacterial_spot', 'Tomato_Bacterial_spot', 'Tomato_Bacterial_spot', 'Tomato_Bacterial_spot', 'Tomato_Bacterial_spot', 'Tomato_Bacterial_spot', 'Tomato_Bacterial_spot', 'Tomato_Bacterial_spot', 'Tomato_Bacterial_spot', 'Tomato_Bacterial_spot', 'Tomato_Bacterial_spot', 'Tomato_Bacterial_spot', 'Tomato_Bacterial_spot', 'Tomato_Bacterial_spot', 'Tomato_Bacterial_spot', 'Tomato_Bacterial_spot', 'Tomato_Bacterial_spot', 'Tomato_Bacterial_spot', 'Tomato_Bacterial_spot', 'Tomato_Bacterial_spot', 'Tomato_Bacterial_spot', 'Tomato_Bacterial_spot', 'Tomato_Bacterial_spot', 'Tomato_Bacterial_spot', 'Tomato_Bacterial_spot', 'Tomato_Bacterial_spot', 'Tomato_Bacterial_spot', 'Tomato_Bacterial_spot', 'Tomato_Bacterial_spot', 'Tomato_Bacterial_spot', 'Tomato_Bacterial_spot', 'Tomato_Bacterial_spot', 'Tomato_Bacterial_spot', 'Tomato_Bacterial_spot', 'Tomato_Bacterial_spot', 'Tomato_Bacterial_spot', 'Tomato_Bacterial_spot', 'Tomato_Bacterial_spot', 'Tomato_Bacterial_spot', 'Tomato_Bacterial_spot', 'Tomato_Bacterial_spot', 'Tomato_Bacterial_spot', 'Tomato_Bacterial_spot', 'Tomato_Bacterial_spot', 'Tomato_Bacterial_spot', 'Tomato_Bacterial_spot', 'Tomato_Bacterial_spot', 'Tomato_Bacterial_spot', 'Tomato_Bacterial_spot', 'Tomato_Bacterial_spot', 'Tomato_Bacterial_spot', 'Tomato_Bacterial_spot', 'Tomato_Bacterial_spot', 'Tomato_Bacterial_spot', 'Tomato_Bacterial_spot', 'Tomato_Bacterial_spot', 'Tomato_Bacterial_spot', 'Tomato_Bacterial_spot', 'Tomato_Bacterial_spot', 'Tomato_Bacterial_spot', 'Tomato_Bacterial_spot', 'Tomato_Bacterial_spot', 'Tomato_Bacterial_spot', 'Tomato_Bacterial_spot', 'Tomato_Bacterial_spot', 'Tomato_Bacterial_spot', 'Tomato_Bacterial_spot', 'Tomato_Bacterial_spot', 'Tomato_Bacterial_spot', 'Tomato_Bacterial_spot', 'Tomato_Bacterial_spot', 'Tomato_Bacterial_spot', 'Tomato_Bacterial_spot', 'Tomato_Bacterial_spot', 'Tomato_Bacterial_spot', 'Tomato_Bacterial_spot', 'Tomato_Bacterial_spot', 'Tomato_Bacterial_spot', 'Tomato_Bacterial_spot', 'Tomato_Bacterial_spot', 'Tomato_Bacterial_spot', 'Tomato_Bacterial_spot', 'Tomato_Bacterial_spot', 'Tomato_Bacterial_spot', 'Tomato_Bacterial_spot', 'Tomato_Bacterial_spot', 'Tomato_Bacterial_spot', 'Tomato_Bacterial_spot', 'Tomato_Bacterial_spot', 'Tomato_Bacterial_spot', 'Tomato_Bacterial_spot', 'Tomato_Bacterial_spot', 'Tomato_Bacterial_spot', 'Tomato_Bacterial_spot', 'Tomato_Bacterial_spot', 'Tomato_Bacterial_spot', 'Tomato_Bacterial_spot', 'Tomato_Bacterial_spot', 'Tomato_Bacterial_spot', 'Tomato_Bacterial_spot', 'Tomato_Bacterial_spot', 'Tomato_Bacterial_spot', 'Tomato_Bacterial_spot', 'Tomato_Bacterial_spot', 'Tomato_Bacterial_spot', 'Tomato_Bacterial_spot', 'Tomato_Bacterial_spot', 'Tomato_Bacterial_spot', 'Tomato_Bacterial_spot', 'Tomato_Bacterial_spot', 'Tomato_Bacterial_spot', 'Tomato_Bacterial_spot', 'Tomato_Bacterial_spot', 'Tomato_Bacterial_spot', 'Tomato_Bacterial_spot', 'Tomato_Bacterial_spot', 'Tomato_Bacterial_spot', 'Tomato_Bacterial_spot', 'Tomato_Bacterial_spot', 'Tomato_Bacterial_spot', 'Tomato_Bacterial_spot', 'Tomato_Bacterial_spot', 'Tomato_Bacterial_spot', 'Tomato_Bacterial_spot', 'Tomato_Bacterial_spot', 'Tomato_Bacterial_spot', 'Tomato_Bacterial_spot', 'Tomato_Bacterial_spot', 'Tomato_Bacterial_spot', 'Tomato_Bacterial_spot', 'Tomato_Bacterial_spot', 'Tomato_Bacterial_spot', 'Tomato_Bacterial_spot', 'Tomato_Bacterial_spot', 'Tomato_Bacterial_spot', 'Tomato_Bacterial_spot', 'Tomato_Bacterial_spot', 'Tomato_Bacterial_spot', 'Tomato_Bacterial_spot', 'Tomato_Bacterial_spot', 'Tomato_Bacterial_spot', 'Tomato_Bacterial_spot', 'Tomato_Bacterial_spot', 'Tomato_Bacterial_spot', 'Tomato_Bacterial_spot', 'Tomato_Bacterial_spot', 'Tomato_Bacterial_spot', 'Tomato_Early_blight', 'Tomato_Early_blight', 'Tomato_Early_blight', 'Tomato_Early_blight', 'Tomato_Early_blight', 'Tomato_Early_blight', 'Tomato_Early_blight', 'Tomato_Early_blight', 'Tomato_Early_blight', 'Tomato_Early_blight', 'Tomato_Early_blight', 'Tomato_Early_blight', 'Tomato_Early_blight', 'Tomato_Early_blight', 'Tomato_Early_blight', 'Tomato_Early_blight', 'Tomato_Early_blight', 'Tomato_Early_blight', 'Tomato_Early_blight', 'Tomato_Early_blight', 'Tomato_Early_blight', 'Tomato_Early_blight', 'Tomato_Early_blight', 'Tomato_Early_blight', 'Tomato_Early_blight', 'Tomato_Early_blight', 'Tomato_Early_blight', 'Tomato_Early_blight', 'Tomato_Early_blight', 'Tomato_Early_blight', 'Tomato_Early_blight', 'Tomato_Early_blight', 'Tomato_Early_blight', 'Tomato_Early_blight', 'Tomato_Early_blight', 'Tomato_Early_blight', 'Tomato_Early_blight', 'Tomato_Early_blight', 'Tomato_Early_blight', 'Tomato_Early_blight', 'Tomato_Early_blight', 'Tomato_Early_blight', 'Tomato_Early_blight', 'Tomato_Early_blight', 'Tomato_Early_blight', 'Tomato_Early_blight', 'Tomato_Early_blight', 'Tomato_Early_blight', 'Tomato_Early_blight', 'Tomato_Early_blight', 'Tomato_Early_blight', 'Tomato_Early_blight', 'Tomato_Early_blight', 'Tomato_Early_blight', 'Tomato_Early_blight', 'Tomato_Early_blight', 'Tomato_Early_blight', 'Tomato_Early_blight', 'Tomato_Early_blight', 'Tomato_Early_blight', 'Tomato_Early_blight', 'Tomato_Early_blight', 'Tomato_Early_blight', 'Tomato_Early_blight', 'Tomato_Early_blight', 'Tomato_Early_blight', 'Tomato_Early_blight', 'Tomato_Early_blight', 'Tomato_Early_blight', 'Tomato_Early_blight', 'Tomato_Early_blight', 'Tomato_Early_blight', 'Tomato_Early_blight', 'Tomato_Early_blight', 'Tomato_Early_blight', 'Tomato_Early_blight', 'Tomato_Early_blight', 'Tomato_Early_blight', 'Tomato_Early_blight', 'Tomato_Early_blight', 'Tomato_Early_blight', 'Tomato_Early_blight', 'Tomato_Early_blight', 'Tomato_Early_blight', 'Tomato_Early_blight', 'Tomato_Early_blight', 'Tomato_Early_blight', 'Tomato_Early_blight', 'Tomato_Early_blight', 'Tomato_Early_blight', 'Tomato_Early_blight', 'Tomato_Early_blight', 'Tomato_Early_blight', 'Tomato_Early_blight', 'Tomato_Early_blight', 'Tomato_Early_blight', 'Tomato_Early_blight', 'Tomato_Early_blight', 'Tomato_Early_blight', 'Tomato_Early_blight', 'Tomato_Early_blight', 'Tomato_Early_blight', 'Tomato_Early_blight', 'Tomato_Early_blight', 'Tomato_Early_blight', 'Tomato_Early_blight', 'Tomato_Early_blight', 'Tomato_Early_blight', 'Tomato_Early_blight', 'Tomato_Early_blight', 'Tomato_Early_blight', 'Tomato_Early_blight', 'Tomato_Early_blight', 'Tomato_Early_blight', 'Tomato_Early_blight', 'Tomato_Early_blight', 'Tomato_Early_blight', 'Tomato_Early_blight', 'Tomato_Early_blight', 'Tomato_Early_blight', 'Tomato_Early_blight', 'Tomato_Early_blight', 'Tomato_Early_blight', 'Tomato_Early_blight', 'Tomato_Early_blight', 'Tomato_Early_blight', 'Tomato_Early_blight', 'Tomato_Early_blight', 'Tomato_Early_blight', 'Tomato_Early_blight', 'Tomato_Early_blight', 'Tomato_Early_blight', 'Tomato_Early_blight', 'Tomato_Early_blight', 'Tomato_Early_blight', 'Tomato_Early_blight', 'Tomato_Early_blight', 'Tomato_Early_blight', 'Tomato_Early_blight', 'Tomato_Early_blight', 'Tomato_Early_blight', 'Tomato_Early_blight', 'Tomato_Early_blight', 'Tomato_Early_blight', 'Tomato_Early_blight', 'Tomato_Early_blight', 'Tomato_Early_blight', 'Tomato_Early_blight', 'Tomato_Early_blight', 'Tomato_Early_blight', 'Tomato_Early_blight', 'Tomato_Early_blight', 'Tomato_Early_blight', 'Tomato_Early_blight', 'Tomato_Early_blight', 'Tomato_Early_blight', 'Tomato_Early_blight', 'Tomato_Early_blight', 'Tomato_Early_blight', 'Tomato_Early_blight', 'Tomato_Early_blight', 'Tomato_Early_blight', 'Tomato_Early_blight', 'Tomato_Early_blight', 'Tomato_Early_blight', 'Tomato_Early_blight', 'Tomato_Early_blight', 'Tomato_Early_blight', 'Tomato_Early_blight', 'Tomato_Early_blight', 'Tomato_Early_blight', 'Tomato_Early_blight', 'Tomato_Early_blight', 'Tomato_Early_blight', 'Tomato_Early_blight', 'Tomato_Early_blight', 'Tomato_Early_blight', 'Tomato_Early_blight', 'Tomato_Early_blight', 'Tomato_Early_blight', 'Tomato_Early_blight', 'Tomato_Early_blight', 'Tomato_Early_blight', 'Tomato_Early_blight', 'Tomato_Early_blight', 'Tomato_Early_blight', 'Tomato_Early_blight', 'Tomato_Early_blight', 'Tomato_Early_blight', 'Tomato_Early_blight', 'Tomato_Early_blight', 'Tomato_Early_blight', 'Tomato_Early_blight', 'Tomato_Early_blight', 'Tomato_Early_blight', 'Tomato_Early_blight', 'Tomato_Early_blight', 'Tomato_Early_blight', 'Tomato_Early_blight', 'Tomato_Early_blight', 'Tomato_healthy', 'Tomato_healthy', 'Tomato_healthy', 'Tomato_healthy', 'Tomato_healthy', 'Tomato_healthy', 'Tomato_healthy', 'Tomato_healthy', 'Tomato_healthy', 'Tomato_healthy', 'Tomato_healthy', 'Tomato_healthy', 'Tomato_healthy', 'Tomato_healthy', 'Tomato_healthy', 'Tomato_healthy', 'Tomato_healthy', 'Tomato_healthy', 'Tomato_healthy', 'Tomato_healthy', 'Tomato_healthy', 'Tomato_healthy', 'Tomato_healthy', 'Tomato_healthy', 'Tomato_healthy', 'Tomato_healthy', 'Tomato_healthy', 'Tomato_healthy', 'Tomato_healthy', 'Tomato_healthy', 'Tomato_healthy', 'Tomato_healthy', 'Tomato_healthy', 'Tomato_healthy', 'Tomato_healthy', 'Tomato_healthy', 'Tomato_healthy', 'Tomato_healthy', 'Tomato_healthy', 'Tomato_healthy', 'Tomato_healthy', 'Tomato_healthy', 'Tomato_healthy', 'Tomato_healthy', 'Tomato_healthy', 'Tomato_healthy', 'Tomato_healthy', 'Tomato_healthy', 'Tomato_healthy', 'Tomato_healthy', 'Tomato_healthy', 'Tomato_healthy', 'Tomato_healthy', 'Tomato_healthy', 'Tomato_healthy', 'Tomato_healthy', 'Tomato_healthy', 'Tomato_healthy', 'Tomato_healthy', 'Tomato_healthy', 'Tomato_healthy', 'Tomato_healthy', 'Tomato_healthy', 'Tomato_healthy', 'Tomato_healthy', 'Tomato_healthy', 'Tomato_healthy', 'Tomato_healthy', 'Tomato_healthy', 'Tomato_healthy', 'Tomato_healthy', 'Tomato_healthy', 'Tomato_healthy', 'Tomato_healthy', 'Tomato_healthy', 'Tomato_healthy', 'Tomato_healthy', 'Tomato_healthy', 'Tomato_healthy', 'Tomato_healthy', 'Tomato_healthy', 'Tomato_healthy', 'Tomato_healthy', 'Tomato_healthy', 'Tomato_healthy', 'Tomato_healthy', 'Tomato_healthy', 'Tomato_healthy', 'Tomato_healthy', 'Tomato_healthy', 'Tomato_healthy', 'Tomato_healthy', 'Tomato_healthy', 'Tomato_healthy', 'Tomato_healthy', 'Tomato_healthy', 'Tomato_healthy', 'Tomato_healthy', 'Tomato_healthy', 'Tomato_healthy', 'Tomato_healthy', 'Tomato_healthy', 'Tomato_healthy', 'Tomato_healthy', 'Tomato_healthy', 'Tomato_healthy', 'Tomato_healthy', 'Tomato_healthy', 'Tomato_healthy', 'Tomato_healthy', 'Tomato_healthy', 'Tomato_healthy', 'Tomato_healthy', 'Tomato_healthy', 'Tomato_healthy', 'Tomato_healthy', 'Tomato_healthy', 'Tomato_healthy', 'Tomato_healthy', 'Tomato_healthy', 'Tomato_healthy', 'Tomato_healthy', 'Tomato_healthy', 'Tomato_healthy', 'Tomato_healthy', 'Tomato_healthy', 'Tomato_healthy', 'Tomato_healthy', 'Tomato_healthy', 'Tomato_healthy', 'Tomato_healthy', 'Tomato_healthy', 'Tomato_healthy', 'Tomato_healthy', 'Tomato_healthy', 'Tomato_healthy', 'Tomato_healthy', 'Tomato_healthy', 'Tomato_healthy', 'Tomato_healthy', 'Tomato_healthy', 'Tomato_healthy', 'Tomato_healthy', 'Tomato_healthy', 'Tomato_healthy', 'Tomato_healthy', 'Tomato_healthy', 'Tomato_healthy', 'Tomato_healthy', 'Tomato_healthy', 'Tomato_healthy', 'Tomato_healthy', 'Tomato_healthy', 'Tomato_healthy', 'Tomato_healthy', 'Tomato_healthy', 'Tomato_healthy', 'Tomato_healthy', 'Tomato_healthy', 'Tomato_healthy', 'Tomato_healthy', 'Tomato_healthy', 'Tomato_healthy', 'Tomato_healthy', 'Tomato_healthy', 'Tomato_healthy', 'Tomato_healthy', 'Tomato_healthy', 'Tomato_healthy', 'Tomato_healthy', 'Tomato_healthy', 'Tomato_healthy', 'Tomato_healthy', 'Tomato_healthy', 'Tomato_healthy', 'Tomato_healthy', 'Tomato_healthy', 'Tomato_healthy', 'Tomato_healthy', 'Tomato_healthy', 'Tomato_healthy', 'Tomato_healthy', 'Tomato_healthy', 'Tomato_healthy', 'Tomato_healthy', 'Tomato_healthy', 'Tomato_healthy', 'Tomato_healthy', 'Tomato_healthy', 'Tomato_healthy', 'Tomato_healthy', 'Tomato_healthy', 'Tomato_healthy', 'Tomato_healthy', 'Tomato_healthy', 'Tomato_healthy', 'Tomato_healthy', 'Tomato_healthy', 'Tomato_healthy', 'Tomato_healthy']\n"
          ],
          "name": "stdout"
        }
      ]
    },
    {
      "cell_type": "code",
      "metadata": {
        "colab": {
          "base_uri": "https://localhost:8080/"
        },
        "id": "5ZX2w_9iqApo",
        "outputId": "9d7c8bee-e7e4-4590-a8b7-1303e809bf8a"
      },
      "source": [
        "image_size = len(image_list)\n",
        "label_binarizer = LabelBinarizer()# why ?\n",
        "image_labels = label_binarizer.fit_transform(label_list)\n",
        "pickle.dump(label_binarizer,open('label_transform.pkl', 'wb')) #not necessary\n",
        "n_classes = len(label_binarizer.classes_) #\n",
        "print(label_binarizer.classes_)\n",
        "np_image_list = np.array(image_list, dtype=np.float16) / 225.0 # costimize and check as per discussion"
      ],
      "execution_count": null,
      "outputs": [
        {
          "output_type": "stream",
          "text": [
            "['Tomato_Bacterial_spot' 'Tomato_Early_blight'\n",
            " 'Tomato__Tomato_mosaic_virus' 'Tomato_healthy']\n"
          ],
          "name": "stdout"
        }
      ]
    },
    {
      "cell_type": "markdown",
      "metadata": {
        "id": "w22xfFxk3Bxj"
      },
      "source": [
        "https://machinelearningmastery.com/train-test-split-for-evaluating-machine-learning-algorithms/"
      ]
    },
    {
      "cell_type": "code",
      "metadata": {
        "colab": {
          "base_uri": "https://localhost:8080/"
        },
        "id": "cDw3P2w-qY1d",
        "outputId": "6d4fa161-5d1e-4df9-8bc0-528320a89f27"
      },
      "source": [
        "print(\"[INFO] Spliting data to train, test\")\n",
        "x_train, x_test, y_train, y_test = train_test_split(np_image_list, image_labels, test_size=0.2, random_state = 42)\n",
        "\n",
        "aug = ImageDataGenerator(\n",
        "    rotation_range=25, width_shift_range=0.1,\n",
        "    height_shift_range=0.1, shear_range=0.2, \n",
        "    zoom_range=0.2,horizontal_flip=True, \n",
        "    fill_mode=\"nearest\")"
      ],
      "execution_count": null,
      "outputs": [
        {
          "output_type": "stream",
          "text": [
            "[INFO] Spliting data to train, test\n"
          ],
          "name": "stdout"
        }
      ]
    },
    {
      "cell_type": "code",
      "metadata": {
        "id": "1pCVQ2MHqdoB"
      },
      "source": [
        "model = Sequential()\n",
        "inputShape = (height, width, depth)\n",
        "chanDim = -1\n",
        "if K.image_data_format() == \"channels_first\":\n",
        "    inputShape = (depth, height, width)\n",
        "    chanDim = 1\n",
        "\n",
        "model.add(Conv2D(32, (3, 3), padding=\"same\",input_shape=inputShape))\n",
        "model.add(Activation(\"relu\"))\n",
        "\n",
        "model.add(BatchNormalization(axis=chanDim))\n",
        "model.add(MaxPooling2D(pool_size=(3, 3)))\n",
        "model.add(Dropout(0.25))\n",
        "\n",
        "model.add(Conv2D(64, (3, 3), padding=\"same\"))\n",
        "model.add(Activation(\"relu\"))\n",
        "model.add(BatchNormalization(axis=chanDim))\n",
        "\n",
        "model.add(Conv2D(64, (3, 3), padding=\"same\"))\n",
        "model.add(Activation(\"relu\"))\n",
        "model.add(BatchNormalization(axis=chanDim))\n",
        "model.add(MaxPooling2D(pool_size=(2, 2)))\n",
        "model.add(Dropout(0.25))#Dropout is a technique where randomly selected neurons are ignored during training. They are “dropped-out” randomly. \n",
        "\n",
        "model.add(Conv2D(128, (3, 3), padding=\"same\"))\n",
        "model.add(Activation(\"relu\"))\n",
        "model.add(BatchNormalization(axis=chanDim))\n",
        "\n",
        "model.add(Conv2D(128, (3, 3), padding=\"same\"))\n",
        "model.add(Activation(\"relu\"))\n",
        "model.add(BatchNormalization(axis=chanDim))\n",
        "model.add(MaxPooling2D(pool_size=(2, 2)))\n",
        "model.add(Dropout(0.25))\n",
        "\n",
        "\n",
        "model.add(Flatten())\n",
        "model.add(Dense(1024))\n",
        "model.add(Activation(\"relu\"))\n",
        "\n",
        "model.add(BatchNormalization())\n",
        "model.add(Dropout(0.5))\n",
        "model.add(Dense(n_classes))\n",
        "model.add(Activation(\"softmax\"))"
      ],
      "execution_count": null,
      "outputs": []
    },
    {
      "cell_type": "code",
      "metadata": {
        "colab": {
          "base_uri": "https://localhost:8080/"
        },
        "id": "oLtXF-bBqkoe",
        "outputId": "2cd592cd-1f14-4db9-cd1a-01975b561586"
      },
      "source": [
        "opt = Adam(lr=INIT_LR, decay=INIT_LR / EPOCHS)\n",
        "# distribution\n",
        "model.compile(loss=\"binary_crossentropy\", optimizer=opt,metrics=[\"accuracy\"])\n",
        "# train the network\n",
        "print(\"[INFO] training network...\")\n",
        "\n",
        "history = model.fit_generator(\n",
        "    aug.flow(x_train, y_train, batch_size=BS),\n",
        "    validation_data=(x_test, y_test),\n",
        "    steps_per_epoch=len(x_train) // BS,\n",
        "    epochs=EPOCHS, verbose=1\n",
        "    )"
      ],
      "execution_count": null,
      "outputs": [
        {
          "output_type": "stream",
          "text": [
            "/usr/local/lib/python3.7/dist-packages/tensorflow/python/keras/optimizer_v2/optimizer_v2.py:375: UserWarning: The `lr` argument is deprecated, use `learning_rate` instead.\n",
            "  \"The `lr` argument is deprecated, use `learning_rate` instead.\")\n"
          ],
          "name": "stderr"
        },
        {
          "output_type": "stream",
          "text": [
            "[INFO] training network...\n"
          ],
          "name": "stdout"
        },
        {
          "output_type": "stream",
          "text": [
            "/usr/local/lib/python3.7/dist-packages/keras/engine/training.py:1915: UserWarning: `Model.fit_generator` is deprecated and will be removed in a future version. Please use `Model.fit`, which supports generators.\n",
            "  warnings.warn('`Model.fit_generator` is deprecated and '\n"
          ],
          "name": "stderr"
        },
        {
          "output_type": "stream",
          "text": [
            "Epoch 1/25\n",
            "20/20 [==============================] - 138s 7s/step - loss: 0.1088 - accuracy: 0.9494 - val_loss: 1.7555 - val_accuracy: 0.6187\n",
            "Epoch 2/25\n",
            "20/20 [==============================] - 136s 7s/step - loss: 0.0833 - accuracy: 0.9590 - val_loss: 3.8086 - val_accuracy: 0.3438\n",
            "Epoch 3/25\n",
            "20/20 [==============================] - 135s 7s/step - loss: 0.0632 - accuracy: 0.9638 - val_loss: 1.2978 - val_accuracy: 0.5250\n",
            "Epoch 4/25\n",
            "20/20 [==============================] - 135s 7s/step - loss: 0.0390 - accuracy: 0.9845 - val_loss: 1.5917 - val_accuracy: 0.5938\n",
            "Epoch 5/25\n",
            "20/20 [==============================] - 134s 7s/step - loss: 0.0504 - accuracy: 0.9647 - val_loss: 0.5609 - val_accuracy: 0.8000\n",
            "Epoch 6/25\n",
            "20/20 [==============================] - 135s 7s/step - loss: 0.0795 - accuracy: 0.9627 - val_loss: 1.0448 - val_accuracy: 0.6313\n",
            "Epoch 7/25\n",
            "20/20 [==============================] - 134s 7s/step - loss: 0.0639 - accuracy: 0.9695 - val_loss: 1.6108 - val_accuracy: 0.5813\n",
            "Epoch 8/25\n",
            "20/20 [==============================] - 138s 7s/step - loss: 0.0860 - accuracy: 0.9492 - val_loss: 0.9616 - val_accuracy: 0.7125\n",
            "Epoch 9/25\n",
            "20/20 [==============================] - 138s 7s/step - loss: 0.0405 - accuracy: 0.9785 - val_loss: 2.1512 - val_accuracy: 0.6438\n",
            "Epoch 10/25\n",
            "20/20 [==============================] - 138s 7s/step - loss: 0.0493 - accuracy: 0.9802 - val_loss: 1.6298 - val_accuracy: 0.6313\n",
            "Epoch 11/25\n",
            "20/20 [==============================] - 137s 7s/step - loss: 0.0617 - accuracy: 0.9639 - val_loss: 0.8153 - val_accuracy: 0.7625\n",
            "Epoch 12/25\n",
            "20/20 [==============================] - 137s 7s/step - loss: 0.0537 - accuracy: 0.9679 - val_loss: 1.1124 - val_accuracy: 0.6500\n",
            "Epoch 13/25\n",
            "20/20 [==============================] - 137s 7s/step - loss: 0.0513 - accuracy: 0.9686 - val_loss: 0.9070 - val_accuracy: 0.5625\n",
            "Epoch 14/25\n",
            "20/20 [==============================] - 134s 7s/step - loss: 0.0367 - accuracy: 0.9735 - val_loss: 0.5161 - val_accuracy: 0.7312\n",
            "Epoch 15/25\n",
            "20/20 [==============================] - 129s 6s/step - loss: 0.0257 - accuracy: 0.9849 - val_loss: 0.4166 - val_accuracy: 0.8687\n",
            "Epoch 16/25\n",
            "20/20 [==============================] - 130s 7s/step - loss: 0.0179 - accuracy: 0.9914 - val_loss: 0.7166 - val_accuracy: 0.6375\n",
            "Epoch 17/25\n",
            "20/20 [==============================] - 133s 7s/step - loss: 0.0325 - accuracy: 0.9783 - val_loss: 0.0748 - val_accuracy: 0.9688\n",
            "Epoch 18/25\n",
            "20/20 [==============================] - 133s 7s/step - loss: 0.0256 - accuracy: 0.9840 - val_loss: 0.0354 - val_accuracy: 0.9688\n",
            "Epoch 19/25\n",
            "20/20 [==============================] - 135s 7s/step - loss: 0.0200 - accuracy: 0.9906 - val_loss: 0.2465 - val_accuracy: 0.9125\n",
            "Epoch 20/25\n",
            "20/20 [==============================] - 135s 7s/step - loss: 0.0234 - accuracy: 0.9873 - val_loss: 0.2969 - val_accuracy: 0.8562\n",
            "Epoch 21/25\n",
            "20/20 [==============================] - 134s 7s/step - loss: 0.0178 - accuracy: 0.9962 - val_loss: 0.1081 - val_accuracy: 0.9312\n",
            "Epoch 22/25\n",
            "20/20 [==============================] - 134s 7s/step - loss: 0.0284 - accuracy: 0.9735 - val_loss: 1.6363 - val_accuracy: 0.6562\n",
            "Epoch 23/25\n",
            "20/20 [==============================] - 134s 7s/step - loss: 0.0255 - accuracy: 0.9851 - val_loss: 0.6180 - val_accuracy: 0.7375\n",
            "Epoch 24/25\n",
            "20/20 [==============================] - 133s 7s/step - loss: 0.0442 - accuracy: 0.9736 - val_loss: 0.5971 - val_accuracy: 0.7563\n",
            "Epoch 25/25\n",
            "20/20 [==============================] - 133s 7s/step - loss: 0.0353 - accuracy: 0.9800 - val_loss: 0.2407 - val_accuracy: 0.8500\n"
          ],
          "name": "stdout"
        }
      ]
    },
    {
      "cell_type": "code",
      "metadata": {
        "id": "wqiZzkRFqt-B"
      },
      "source": [
        "acc = history.history['accuracy']\n",
        "val_acc = history.history['val_accuracy']\n",
        "loss = history.history['loss']\n",
        "val_loss = history.history['val_loss']\n",
        "epochs = range(1, len(acc) + 1)"
      ],
      "execution_count": null,
      "outputs": []
    },
    {
      "cell_type": "code",
      "metadata": {
        "colab": {
          "base_uri": "https://localhost:8080/",
          "height": 545
        },
        "id": "RnWyKR_3qzIn",
        "outputId": "c28ac6d7-b0c4-41f2-fd15-b31e0590e1a0"
      },
      "source": [
        "#Train and validation accuracy\n",
        "plt.plot(epochs, acc, 'b', label='Training accurarcy')\n",
        "plt.plot(epochs, val_acc, 'r', label='Validation accurarcy')\n",
        "plt.title('Training and Validation accurarcy')\n",
        "plt.legend()\n",
        "\n",
        "plt.figure()\n",
        "#Train and validation loss\n",
        "plt.plot(epochs, loss, 'b', label='Training loss')\n",
        "plt.plot(epochs, val_loss, 'r', label='Validation loss')\n",
        "plt.title('Training and Validation loss')\n",
        "plt.legend()\n",
        "plt.show()\n"
      ],
      "execution_count": null,
      "outputs": [
        {
          "output_type": "display_data",
          "data": {
            "image/png": "[encoded data removed]",
            "text/plain": [
              "<Figure size 432x288 with 1 Axes>"
            ]
          },
          "metadata": {
            "tags": [],
            "needs_background": "light"
          }
        },
        {
          "output_type": "display_data",
          "data": {
            "image/png": "[encoded data removed]",
            "text/plain": [
              "<Figure size 432x288 with 1 Axes>"
            ]
          },
          "metadata": {
            "tags": [],
            "needs_background": "light"
          }
        }
      ]
    },
    {
      "cell_type": "code",
      "metadata": {
        "colab": {
          "base_uri": "https://localhost:8080/"
        },
        "id": "SuLkER0sOUtT",
        "outputId": "e4ab72d7-c0d1-408c-d3f4-594b43ad375d"
      },
      "source": [
        "print(\"[INFO] Calculating model accuracy\")\n",
        "scores = model.evaluate(x_test, y_test)\n",
        "print(f\"Test Accuracy: {scores[1]*100}\")"
      ],
      "execution_count": null,
      "outputs": [
        {
          "output_type": "stream",
          "text": [
            "[INFO] Calculating model accuracy\n",
            "5/5 [==============================] - 7s 1s/step - loss: 0.2407 - accuracy: 0.8500\n",
            "Test Accuracy: 85.00000238418579\n"
          ],
          "name": "stdout"
        }
      ]
    },
    {
      "cell_type": "code",
      "metadata": {
        "id": "CJi9eMchNue5"
      },
      "source": [
        "model.save(\"model.h5\")"
      ],
      "execution_count": null,
      "outputs": []
    },
    {
      "cell_type": "markdown",
      "metadata": {
        "id": "mjMXg_JtN4LO"
      },
      "source": [
        "[click](https://intellipaat.com/community/9487/how-to-predict-input-image-using-trained-model-in-keras) to know about how to make use of pre trained model to predict new images."
      ]
    },
    {
      "cell_type": "code",
      "metadata": {
        "colab": {
          "resources": {
            "http://localhost:8080/nbextensions/google.colab/files.js": {
              "data": "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",
              "ok": true,
              "headers": [
                [
                  "content-type",
                  "application/javascript"
                ]
              ],
              "status": 200,
              "status_text": ""
            }
          },
          "base_uri": "https://localhost:8080/",
          "height": 72
        },
        "id": "CJYe-_X4vZHv",
        "outputId": "c1a62292-af54-4396-b6a1-3f7e9e547b3a"
      },
      "source": [
        "from google.colab import files\n",
        "from IPython import display\n",
        "\n",
        "uploaded = files.upload()"
      ],
      "execution_count": null,
      "outputs": [
        {
          "output_type": "display_data",
          "data": {
            "text/html": [
              "\n",
              "     <input type=\"file\" id=\"files-1c5c3c15-8343-4903-97df-69a2b368bc44\" name=\"files[]\" multiple disabled\n",
              "        style=\"border:none\" />\n",
              "     <output id=\"result-1c5c3c15-8343-4903-97df-69a2b368bc44\">\n",
              "      Upload widget is only available when the cell has been executed in the\n",
              "      current browser session. Please rerun this cell to enable.\n",
              "      </output>\n",
              "      <script src=\"/nbextensions/google.colab/files.js\"></script> "
            ],
            "text/plain": [
              "<IPython.core.display.HTML object>"
            ]
          },
          "metadata": {
            "tags": []
          }
        },
        {
          "output_type": "stream",
          "text": [
            "Saving 00bce074-967b-4d50-967a-31fdaa35e688___RS_HL 0223.JPG to 00bce074-967b-4d50-967a-31fdaa35e688___RS_HL 0223.JPG\n"
          ],
          "name": "stdout"
        }
      ]
    },
    {
      "cell_type": "code",
      "metadata": {
        "id": "-GTt77d4xLch"
      },
      "source": [
        "from google.colab import files\n",
        "from IPython import display\n",
        "\n",
        "display.Image(\"00bce074-967b-4d50-967a-31fdaa35e688___RS_HL 0223.JPG\",\n",
        "              width=1000)"
      ],
      "execution_count": null,
      "outputs": []
    },
    {
      "cell_type": "code",
      "metadata": {
        "colab": {
          "base_uri": "https://localhost:8080/"
        },
        "id": "GSA7gueRx_QL",
        "outputId": "65152685-92ac-4e29-9ae8-9257cbc158d3"
      },
      "source": [
        "from keras.models import load_model\n",
        "\n",
        "model = load_model('model.h5')\n",
        "\n",
        "model.compile(loss='binary_crossentropy',\n",
        "\n",
        "              optimizer=opt,\n",
        "\n",
        "              metrics=['accuracy'])\n",
        "im=convert_image_to_array(\"00bce074-967b-4d50-967a-31fdaa35e688___RS_HL 0223.JPG\")\n",
        "np_image_li = np.array(im, dtype=np.float16) / 225.0\n",
        "npp_image = np.expand_dims(np_image_li, axis=0)\n",
        "classes = model.predict_classes(npp_image)\n",
        "\n",
        "print(classes)\n"
      ],
      "execution_count": null,
      "outputs": [
        {
          "output_type": "stream",
          "text": [
            "/usr/local/lib/python3.7/dist-packages/keras/engine/sequential.py:450: UserWarning: `model.predict_classes()` is deprecated and will be removed after 2021-01-01. Please use instead:* `np.argmax(model.predict(x), axis=-1)`,   if your model does multi-class classification   (e.g. if it uses a `softmax` last-layer activation).* `(model.predict(x) > 0.5).astype(\"int32\")`,   if your model does binary classification   (e.g. if it uses a `sigmoid` last-layer activation).\n",
            "  warnings.warn('`model.predict_classes()` is deprecated and '\n"
          ],
          "name": "stderr"
        },
        {
          "output_type": "stream",
          "text": [
            "[3]\n"
          ],
          "name": "stdout"
        }
      ]
    },
    {
      "cell_type": "code",
      "metadata": {
        "colab": {
          "base_uri": "https://localhost:8080/"
        },
        "id": "Z68l_S_7zc6Q",
        "outputId": "dd22d3c8-61c2-4a99-8e74-bb4bc2aa7dbe"
      },
      "source": [
        "itemindex = np.where(classes==np.max(classes))\n",
        "print(itemindex)\n",
        "print(\"probability:\"+str(np.max(classes))+\"\\n\"+label_binarizer.classes_[itemindex[0][0]])"
      ],
      "execution_count": null,
      "outputs": [
        {
          "output_type": "stream",
          "text": [
            "(array([0]),)\n",
            "probability:3\n",
            "Tomato_Bacterial_spot\n"
          ],
          "name": "stdout"
        }
      ]
    },
    {
      "cell_type": "code",
      "metadata": {
        "id": "W1nzu92U_rop"
      },
      "source": [
        "itemindex = np.where(classes==np.max(classes))\n",
        "print(\"probability:\"+str(np.max(model.predict(npp_image))))\n",
        "print(label_binarizer.classes_[classes])"
      ],
      "execution_count": null,
      "outputs": []
    },
    {
      "cell_type": "code",
      "metadata": {
        "colab": {
          "base_uri": "https://localhost:8080/"
        },
        "id": "UdcL4yHk_LUU",
        "outputId": "8b390972-828c-49d4-bedb-bd6ed405cb25"
      },
      "source": [
        "\n",
        "print(label_binarizer.classes_[classes])\n"
      ],
      "execution_count": null,
      "outputs": [
        {
          "output_type": "stream",
          "text": [
            "['Tomato_healthy']\n"
          ],
          "name": "stdout"
        }
      ]
    }
  ]
}